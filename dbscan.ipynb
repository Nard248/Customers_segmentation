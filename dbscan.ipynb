{
 "cells": [
  {
   "cell_type": "code",
   "execution_count": 8,
   "metadata": {
    "collapsed": true
   },
   "outputs": [],
   "source": [
    "from sklearn.cluster import DBSCAN\n",
    "from itertools import product\n",
    "import numpy as np\n",
    "import pandas as pd\n",
    "import matplotlib.pyplot as plt\n",
    "from sklearn.cluster import KMeans\n",
    "from sklearn.metrics import silhouette_score\n",
    "from sklearn.preprocessing import MinMaxScaler, StandardScaler\n",
    "from kneed import KneeLocator\n",
    "\n",
    "def remove_outliers(df_):\n",
    "    numerics = ['int16', 'int32', 'int64', 'float16', 'float32', 'float64']\n",
    "    numerical_frame = df_.select_dtypes(include=numerics)\n",
    "    for colname in numerical_frame.columns:\n",
    "        Q1 = df_[colname].quantile(0.25)\n",
    "        Q3 = df_[colname].quantile(0.75)\n",
    "        IQR = Q3 - Q1\n",
    "        df_ = df_[~((df_[colname]<(Q1-1.5*IQR))|(df_[colname]>(Q3+1.5*IQR)))]\n",
    "    return df_"
   ]
  },
  {
   "cell_type": "code",
   "execution_count": 9,
   "outputs": [],
   "source": [
    "raw_data = pd.read_csv('Model_data.csv', index_col='TOTOID')\n",
    "raw_data.rename(columns={'Lag':'DepositLag', 'AVGLag':'BetsLag'}, inplace=True)\n",
    "raw_data.drop(columns=['UserID', 'RegDate'], inplace=True)"
   ],
   "metadata": {
    "collapsed": false
   }
  },
  {
   "cell_type": "code",
   "execution_count": 10,
   "outputs": [
    {
     "data": {
      "text/plain": "               Age DepositCount DepositAmount   DepositLag      BetsLag  \\\ncount  62372.00000  62372.00000   62372.00000  62372.00000  62372.00000   \nmean       0.34964      0.17674       0.19998      0.21346      0.32276   \nstd        0.24861      0.20186       0.23535      0.22211      0.17417   \nmin        0.00000      0.00000       0.00000      0.00000      0.00000   \n25%        0.14894      0.03311       0.02784      0.05809      0.21298   \n50%        0.29787      0.09934       0.09850      0.12164      0.25606   \n75%        0.48936      0.25166       0.29146      0.29043      0.36481   \nmax        1.00000      1.00000       1.00000      1.00000      1.00000   \n\n          One_game main_Betongames main_Live Casino   main_Other     main_P2P  \\\ncount  62372.00000     62372.00000      62372.00000  62372.00000  62372.00000   \nmean       0.94345         0.03755          0.00212      0.00022      0.00351   \nstd        0.23098         0.19010          0.04596      0.01498      0.05915   \nmin        0.00000         0.00000          0.00000      0.00000      0.00000   \n25%        1.00000         0.00000          0.00000      0.00000      0.00000   \n50%        1.00000         0.00000          0.00000      0.00000      0.00000   \n75%        1.00000         0.00000          0.00000      0.00000      0.00000   \nmax        1.00000         1.00000          1.00000      1.00000      1.00000   \n\n       ... main_TVGames main_Virtual Games second_Betongames  \\\ncount  ...  62372.00000        62372.00000       62372.00000   \nmean   ...      0.00027            0.00010           0.81628   \nstd    ...      0.01651            0.00981           0.38726   \nmin    ...      0.00000            0.00000           0.00000   \n25%    ...      0.00000            0.00000           1.00000   \n50%    ...      0.00000            0.00000           1.00000   \n75%    ...      0.00000            0.00000           1.00000   \nmax    ...      1.00000            1.00000           1.00000   \n\n      second_Live Casino second_Other   second_P2P second_Slots second_Sports  \\\ncount        62372.00000  62372.00000  62372.00000  62372.00000   62372.00000   \nmean             0.02071      0.03154      0.04112      0.04391       0.02964   \nstd              0.14243      0.17476      0.19858      0.20491       0.16961   \nmin              0.00000      0.00000      0.00000      0.00000       0.00000   \n25%              0.00000      0.00000      0.00000      0.00000       0.00000   \n50%              0.00000      0.00000      0.00000      0.00000       0.00000   \n75%              0.00000      0.00000      0.00000      0.00000       0.00000   \nmax              1.00000      1.00000      1.00000      1.00000       1.00000   \n\n      second_TVGames second_Virtual Games  \ncount    62372.00000          62372.00000  \nmean         0.00112              0.00385  \nstd          0.03348              0.06191  \nmin          0.00000              0.00000  \n25%          0.00000              0.00000  \n50%          0.00000              0.00000  \n75%          0.00000              0.00000  \nmax          1.00000              1.00000  \n\n[8 rows x 22 columns]",
      "text/html": "<div>\n<style scoped>\n    .dataframe tbody tr th:only-of-type {\n        vertical-align: middle;\n    }\n\n    .dataframe tbody tr th {\n        vertical-align: top;\n    }\n\n    .dataframe thead th {\n        text-align: right;\n    }\n</style>\n<table border=\"1\" class=\"dataframe\">\n  <thead>\n    <tr style=\"text-align: right;\">\n      <th></th>\n      <th>Age</th>\n      <th>DepositCount</th>\n      <th>DepositAmount</th>\n      <th>DepositLag</th>\n      <th>BetsLag</th>\n      <th>One_game</th>\n      <th>main_Betongames</th>\n      <th>main_Live Casino</th>\n      <th>main_Other</th>\n      <th>main_P2P</th>\n      <th>...</th>\n      <th>main_TVGames</th>\n      <th>main_Virtual Games</th>\n      <th>second_Betongames</th>\n      <th>second_Live Casino</th>\n      <th>second_Other</th>\n      <th>second_P2P</th>\n      <th>second_Slots</th>\n      <th>second_Sports</th>\n      <th>second_TVGames</th>\n      <th>second_Virtual Games</th>\n    </tr>\n  </thead>\n  <tbody>\n    <tr>\n      <th>count</th>\n      <td>62372.00000</td>\n      <td>62372.00000</td>\n      <td>62372.00000</td>\n      <td>62372.00000</td>\n      <td>62372.00000</td>\n      <td>62372.00000</td>\n      <td>62372.00000</td>\n      <td>62372.00000</td>\n      <td>62372.00000</td>\n      <td>62372.00000</td>\n      <td>...</td>\n      <td>62372.00000</td>\n      <td>62372.00000</td>\n      <td>62372.00000</td>\n      <td>62372.00000</td>\n      <td>62372.00000</td>\n      <td>62372.00000</td>\n      <td>62372.00000</td>\n      <td>62372.00000</td>\n      <td>62372.00000</td>\n      <td>62372.00000</td>\n    </tr>\n    <tr>\n      <th>mean</th>\n      <td>0.34964</td>\n      <td>0.17674</td>\n      <td>0.19998</td>\n      <td>0.21346</td>\n      <td>0.32276</td>\n      <td>0.94345</td>\n      <td>0.03755</td>\n      <td>0.00212</td>\n      <td>0.00022</td>\n      <td>0.00351</td>\n      <td>...</td>\n      <td>0.00027</td>\n      <td>0.00010</td>\n      <td>0.81628</td>\n      <td>0.02071</td>\n      <td>0.03154</td>\n      <td>0.04112</td>\n      <td>0.04391</td>\n      <td>0.02964</td>\n      <td>0.00112</td>\n      <td>0.00385</td>\n    </tr>\n    <tr>\n      <th>std</th>\n      <td>0.24861</td>\n      <td>0.20186</td>\n      <td>0.23535</td>\n      <td>0.22211</td>\n      <td>0.17417</td>\n      <td>0.23098</td>\n      <td>0.19010</td>\n      <td>0.04596</td>\n      <td>0.01498</td>\n      <td>0.05915</td>\n      <td>...</td>\n      <td>0.01651</td>\n      <td>0.00981</td>\n      <td>0.38726</td>\n      <td>0.14243</td>\n      <td>0.17476</td>\n      <td>0.19858</td>\n      <td>0.20491</td>\n      <td>0.16961</td>\n      <td>0.03348</td>\n      <td>0.06191</td>\n    </tr>\n    <tr>\n      <th>min</th>\n      <td>0.00000</td>\n      <td>0.00000</td>\n      <td>0.00000</td>\n      <td>0.00000</td>\n      <td>0.00000</td>\n      <td>0.00000</td>\n      <td>0.00000</td>\n      <td>0.00000</td>\n      <td>0.00000</td>\n      <td>0.00000</td>\n      <td>...</td>\n      <td>0.00000</td>\n      <td>0.00000</td>\n      <td>0.00000</td>\n      <td>0.00000</td>\n      <td>0.00000</td>\n      <td>0.00000</td>\n      <td>0.00000</td>\n      <td>0.00000</td>\n      <td>0.00000</td>\n      <td>0.00000</td>\n    </tr>\n    <tr>\n      <th>25%</th>\n      <td>0.14894</td>\n      <td>0.03311</td>\n      <td>0.02784</td>\n      <td>0.05809</td>\n      <td>0.21298</td>\n      <td>1.00000</td>\n      <td>0.00000</td>\n      <td>0.00000</td>\n      <td>0.00000</td>\n      <td>0.00000</td>\n      <td>...</td>\n      <td>0.00000</td>\n      <td>0.00000</td>\n      <td>1.00000</td>\n      <td>0.00000</td>\n      <td>0.00000</td>\n      <td>0.00000</td>\n      <td>0.00000</td>\n      <td>0.00000</td>\n      <td>0.00000</td>\n      <td>0.00000</td>\n    </tr>\n    <tr>\n      <th>50%</th>\n      <td>0.29787</td>\n      <td>0.09934</td>\n      <td>0.09850</td>\n      <td>0.12164</td>\n      <td>0.25606</td>\n      <td>1.00000</td>\n      <td>0.00000</td>\n      <td>0.00000</td>\n      <td>0.00000</td>\n      <td>0.00000</td>\n      <td>...</td>\n      <td>0.00000</td>\n      <td>0.00000</td>\n      <td>1.00000</td>\n      <td>0.00000</td>\n      <td>0.00000</td>\n      <td>0.00000</td>\n      <td>0.00000</td>\n      <td>0.00000</td>\n      <td>0.00000</td>\n      <td>0.00000</td>\n    </tr>\n    <tr>\n      <th>75%</th>\n      <td>0.48936</td>\n      <td>0.25166</td>\n      <td>0.29146</td>\n      <td>0.29043</td>\n      <td>0.36481</td>\n      <td>1.00000</td>\n      <td>0.00000</td>\n      <td>0.00000</td>\n      <td>0.00000</td>\n      <td>0.00000</td>\n      <td>...</td>\n      <td>0.00000</td>\n      <td>0.00000</td>\n      <td>1.00000</td>\n      <td>0.00000</td>\n      <td>0.00000</td>\n      <td>0.00000</td>\n      <td>0.00000</td>\n      <td>0.00000</td>\n      <td>0.00000</td>\n      <td>0.00000</td>\n    </tr>\n    <tr>\n      <th>max</th>\n      <td>1.00000</td>\n      <td>1.00000</td>\n      <td>1.00000</td>\n      <td>1.00000</td>\n      <td>1.00000</td>\n      <td>1.00000</td>\n      <td>1.00000</td>\n      <td>1.00000</td>\n      <td>1.00000</td>\n      <td>1.00000</td>\n      <td>...</td>\n      <td>1.00000</td>\n      <td>1.00000</td>\n      <td>1.00000</td>\n      <td>1.00000</td>\n      <td>1.00000</td>\n      <td>1.00000</td>\n      <td>1.00000</td>\n      <td>1.00000</td>\n      <td>1.00000</td>\n      <td>1.00000</td>\n    </tr>\n  </tbody>\n</table>\n<p>8 rows × 22 columns</p>\n</div>"
     },
     "execution_count": 10,
     "metadata": {},
     "output_type": "execute_result"
    }
   ],
   "source": [
    "raw_data = remove_outliers(raw_data)\n",
    "raw_data['One_game'] = raw_data['One_game'].astype(int)\n",
    "raw_data = pd.get_dummies(raw_data, prefix=['main', 'second'])\n",
    "columns_to_scale = ['Age', 'DepositCount', 'DepositAmount', 'DepositLag', 'BetsLag']\n",
    "minmax = raw_data.copy()\n",
    "scaler = MinMaxScaler()\n",
    "scaler.fit(minmax[columns_to_scale])\n",
    "minmax[columns_to_scale] = scaler.transform(minmax[columns_to_scale])\n",
    "minmax.drop_duplicates(keep='first', inplace=True)\n",
    "minmax.describe().apply(lambda s: s.apply('{0:.5f}'.format))"
   ],
   "metadata": {
    "collapsed": false
   }
  },
  {
   "cell_type": "code",
   "execution_count": 11,
   "outputs": [
    {
     "data": {
      "text/plain": "               Age DepositCount DepositAmount   DepositLag      BetsLag  \\\ncount  62372.00000  62372.00000   62372.00000  62372.00000  62372.00000   \nmean       0.00000      0.00001       0.00001     -0.00005      0.00000   \nstd        1.00002      1.00001       1.00001      0.99994      1.00002   \nmin       -1.40640     -0.87552      -0.84971     -0.96102     -1.85315   \n25%       -0.80732     -0.71148      -0.73141     -0.69952     -0.63033   \n50%       -0.20824     -0.38341      -0.43117     -0.41340     -0.38296   \n75%        0.56201      0.37116       0.38870      0.34648      0.24139   \nmax        2.61599      4.07838       3.39924      3.54096      3.88837   \n\n          One_game main_Betongames main_Live Casino   main_Other     main_P2P  \\\ncount  62372.00000     62372.00000      62372.00000  62372.00000  62372.00000   \nmean       0.94345         0.03755          0.00212      0.00022      0.00351   \nstd        0.23098         0.19010          0.04596      0.01498      0.05915   \nmin        0.00000         0.00000          0.00000      0.00000      0.00000   \n25%        1.00000         0.00000          0.00000      0.00000      0.00000   \n50%        1.00000         0.00000          0.00000      0.00000      0.00000   \n75%        1.00000         0.00000          0.00000      0.00000      0.00000   \nmax        1.00000         1.00000          1.00000      1.00000      1.00000   \n\n       ... main_TVGames main_Virtual Games second_Betongames  \\\ncount  ...  62372.00000        62372.00000       62372.00000   \nmean   ...      0.00027            0.00010           0.81628   \nstd    ...      0.01651            0.00981           0.38726   \nmin    ...      0.00000            0.00000           0.00000   \n25%    ...      0.00000            0.00000           1.00000   \n50%    ...      0.00000            0.00000           1.00000   \n75%    ...      0.00000            0.00000           1.00000   \nmax    ...      1.00000            1.00000           1.00000   \n\n      second_Live Casino second_Other   second_P2P second_Slots second_Sports  \\\ncount        62372.00000  62372.00000  62372.00000  62372.00000   62372.00000   \nmean             0.02071      0.03154      0.04112      0.04391       0.02964   \nstd              0.14243      0.17476      0.19858      0.20491       0.16961   \nmin              0.00000      0.00000      0.00000      0.00000       0.00000   \n25%              0.00000      0.00000      0.00000      0.00000       0.00000   \n50%              0.00000      0.00000      0.00000      0.00000       0.00000   \n75%              0.00000      0.00000      0.00000      0.00000       0.00000   \nmax              1.00000      1.00000      1.00000      1.00000       1.00000   \n\n      second_TVGames second_Virtual Games  \ncount    62372.00000          62372.00000  \nmean         0.00112              0.00385  \nstd          0.03348              0.06191  \nmin          0.00000              0.00000  \n25%          0.00000              0.00000  \n50%          0.00000              0.00000  \n75%          0.00000              0.00000  \nmax          1.00000              1.00000  \n\n[8 rows x 22 columns]",
      "text/html": "<div>\n<style scoped>\n    .dataframe tbody tr th:only-of-type {\n        vertical-align: middle;\n    }\n\n    .dataframe tbody tr th {\n        vertical-align: top;\n    }\n\n    .dataframe thead th {\n        text-align: right;\n    }\n</style>\n<table border=\"1\" class=\"dataframe\">\n  <thead>\n    <tr style=\"text-align: right;\">\n      <th></th>\n      <th>Age</th>\n      <th>DepositCount</th>\n      <th>DepositAmount</th>\n      <th>DepositLag</th>\n      <th>BetsLag</th>\n      <th>One_game</th>\n      <th>main_Betongames</th>\n      <th>main_Live Casino</th>\n      <th>main_Other</th>\n      <th>main_P2P</th>\n      <th>...</th>\n      <th>main_TVGames</th>\n      <th>main_Virtual Games</th>\n      <th>second_Betongames</th>\n      <th>second_Live Casino</th>\n      <th>second_Other</th>\n      <th>second_P2P</th>\n      <th>second_Slots</th>\n      <th>second_Sports</th>\n      <th>second_TVGames</th>\n      <th>second_Virtual Games</th>\n    </tr>\n  </thead>\n  <tbody>\n    <tr>\n      <th>count</th>\n      <td>62372.00000</td>\n      <td>62372.00000</td>\n      <td>62372.00000</td>\n      <td>62372.00000</td>\n      <td>62372.00000</td>\n      <td>62372.00000</td>\n      <td>62372.00000</td>\n      <td>62372.00000</td>\n      <td>62372.00000</td>\n      <td>62372.00000</td>\n      <td>...</td>\n      <td>62372.00000</td>\n      <td>62372.00000</td>\n      <td>62372.00000</td>\n      <td>62372.00000</td>\n      <td>62372.00000</td>\n      <td>62372.00000</td>\n      <td>62372.00000</td>\n      <td>62372.00000</td>\n      <td>62372.00000</td>\n      <td>62372.00000</td>\n    </tr>\n    <tr>\n      <th>mean</th>\n      <td>0.00000</td>\n      <td>0.00001</td>\n      <td>0.00001</td>\n      <td>-0.00005</td>\n      <td>0.00000</td>\n      <td>0.94345</td>\n      <td>0.03755</td>\n      <td>0.00212</td>\n      <td>0.00022</td>\n      <td>0.00351</td>\n      <td>...</td>\n      <td>0.00027</td>\n      <td>0.00010</td>\n      <td>0.81628</td>\n      <td>0.02071</td>\n      <td>0.03154</td>\n      <td>0.04112</td>\n      <td>0.04391</td>\n      <td>0.02964</td>\n      <td>0.00112</td>\n      <td>0.00385</td>\n    </tr>\n    <tr>\n      <th>std</th>\n      <td>1.00002</td>\n      <td>1.00001</td>\n      <td>1.00001</td>\n      <td>0.99994</td>\n      <td>1.00002</td>\n      <td>0.23098</td>\n      <td>0.19010</td>\n      <td>0.04596</td>\n      <td>0.01498</td>\n      <td>0.05915</td>\n      <td>...</td>\n      <td>0.01651</td>\n      <td>0.00981</td>\n      <td>0.38726</td>\n      <td>0.14243</td>\n      <td>0.17476</td>\n      <td>0.19858</td>\n      <td>0.20491</td>\n      <td>0.16961</td>\n      <td>0.03348</td>\n      <td>0.06191</td>\n    </tr>\n    <tr>\n      <th>min</th>\n      <td>-1.40640</td>\n      <td>-0.87552</td>\n      <td>-0.84971</td>\n      <td>-0.96102</td>\n      <td>-1.85315</td>\n      <td>0.00000</td>\n      <td>0.00000</td>\n      <td>0.00000</td>\n      <td>0.00000</td>\n      <td>0.00000</td>\n      <td>...</td>\n      <td>0.00000</td>\n      <td>0.00000</td>\n      <td>0.00000</td>\n      <td>0.00000</td>\n      <td>0.00000</td>\n      <td>0.00000</td>\n      <td>0.00000</td>\n      <td>0.00000</td>\n      <td>0.00000</td>\n      <td>0.00000</td>\n    </tr>\n    <tr>\n      <th>25%</th>\n      <td>-0.80732</td>\n      <td>-0.71148</td>\n      <td>-0.73141</td>\n      <td>-0.69952</td>\n      <td>-0.63033</td>\n      <td>1.00000</td>\n      <td>0.00000</td>\n      <td>0.00000</td>\n      <td>0.00000</td>\n      <td>0.00000</td>\n      <td>...</td>\n      <td>0.00000</td>\n      <td>0.00000</td>\n      <td>1.00000</td>\n      <td>0.00000</td>\n      <td>0.00000</td>\n      <td>0.00000</td>\n      <td>0.00000</td>\n      <td>0.00000</td>\n      <td>0.00000</td>\n      <td>0.00000</td>\n    </tr>\n    <tr>\n      <th>50%</th>\n      <td>-0.20824</td>\n      <td>-0.38341</td>\n      <td>-0.43117</td>\n      <td>-0.41340</td>\n      <td>-0.38296</td>\n      <td>1.00000</td>\n      <td>0.00000</td>\n      <td>0.00000</td>\n      <td>0.00000</td>\n      <td>0.00000</td>\n      <td>...</td>\n      <td>0.00000</td>\n      <td>0.00000</td>\n      <td>1.00000</td>\n      <td>0.00000</td>\n      <td>0.00000</td>\n      <td>0.00000</td>\n      <td>0.00000</td>\n      <td>0.00000</td>\n      <td>0.00000</td>\n      <td>0.00000</td>\n    </tr>\n    <tr>\n      <th>75%</th>\n      <td>0.56201</td>\n      <td>0.37116</td>\n      <td>0.38870</td>\n      <td>0.34648</td>\n      <td>0.24139</td>\n      <td>1.00000</td>\n      <td>0.00000</td>\n      <td>0.00000</td>\n      <td>0.00000</td>\n      <td>0.00000</td>\n      <td>...</td>\n      <td>0.00000</td>\n      <td>0.00000</td>\n      <td>1.00000</td>\n      <td>0.00000</td>\n      <td>0.00000</td>\n      <td>0.00000</td>\n      <td>0.00000</td>\n      <td>0.00000</td>\n      <td>0.00000</td>\n      <td>0.00000</td>\n    </tr>\n    <tr>\n      <th>max</th>\n      <td>2.61599</td>\n      <td>4.07838</td>\n      <td>3.39924</td>\n      <td>3.54096</td>\n      <td>3.88837</td>\n      <td>1.00000</td>\n      <td>1.00000</td>\n      <td>1.00000</td>\n      <td>1.00000</td>\n      <td>1.00000</td>\n      <td>...</td>\n      <td>1.00000</td>\n      <td>1.00000</td>\n      <td>1.00000</td>\n      <td>1.00000</td>\n      <td>1.00000</td>\n      <td>1.00000</td>\n      <td>1.00000</td>\n      <td>1.00000</td>\n      <td>1.00000</td>\n      <td>1.00000</td>\n    </tr>\n  </tbody>\n</table>\n<p>8 rows × 22 columns</p>\n</div>"
     },
     "execution_count": 11,
     "metadata": {},
     "output_type": "execute_result"
    }
   ],
   "source": [
    "standard = raw_data.copy()\n",
    "scaler = StandardScaler()\n",
    "scaler.fit(standard[columns_to_scale])\n",
    "standard[columns_to_scale] = scaler.transform(standard[columns_to_scale])\n",
    "standard.drop_duplicates(keep='first', inplace=True)\n",
    "standard.describe().apply(lambda s: s.apply('{0:.5f}'.format))"
   ],
   "metadata": {
    "collapsed": false
   }
  },
  {
   "cell_type": "code",
   "execution_count": 12,
   "outputs": [
    {
     "data": {
      "text/plain": "               Age DepositCount DepositAmount   DepositLag      BetsLag  \\\ncount  62372.00000  62372.00000   62372.00000  62372.00000  62372.00000   \nmean       0.00000      0.00001       0.00001     -0.00005      0.00000   \nstd        1.00002      1.00001       1.00001      0.99994      1.00002   \nmin       -1.40640     -0.87552      -0.84971     -0.96102     -1.85315   \n25%       -0.80732     -0.71148      -0.73141     -0.69952     -0.63033   \n50%       -0.20824     -0.38341      -0.43117     -0.41340     -0.38296   \n75%        0.56201      0.37116       0.38870      0.34648      0.24139   \nmax        2.61599      4.07838       3.39924      3.54096      3.88837   \n\n          One_game main_Betongames main_Live Casino   main_Other     main_P2P  \\\ncount  62372.00000     62372.00000      62372.00000  62372.00000  62372.00000   \nmean      -0.00000         0.00000          0.00000      0.00000      0.00000   \nstd        1.00002         1.00002          1.00002      1.00002      1.00002   \nmin       -4.08466        -0.19752         -0.04605     -0.01498     -0.05936   \n25%        0.24482        -0.19752         -0.04605     -0.01498     -0.05936   \n50%        0.24482        -0.19752         -0.04605     -0.01498     -0.05936   \n75%        0.24482        -0.19752         -0.04605     -0.01498     -0.05936   \nmax        0.24482         5.06284         21.71457     66.73990     16.84661   \n\n       ... main_TVGames main_Virtual Games second_Betongames  \\\ncount  ...  62372.00000        62372.00000       62372.00000   \nmean   ...      0.00000            0.00000          -0.00001   \nstd    ...      1.00002            1.00002           1.00001   \nmin    ...     -0.01651           -0.00981          -2.10788   \n25%    ...     -0.01651           -0.00981           0.47441   \n50%    ...     -0.01651           -0.00981           0.47441   \n75%    ...     -0.01651           -0.00981           0.47441   \nmax    ...     60.56402          101.95342           0.47441   \n\n      second_Live Casino second_Other   second_P2P second_Slots second_Sports  \\\ncount        62372.00000  62372.00000  62372.00000  62372.00000   62372.00000   \nmean             0.00000      0.00000      0.00000      0.00000       0.00000   \nstd              1.00002      1.00002      1.00002      1.00002       1.00002   \nmin             -0.14544     -0.18045     -0.20709     -0.21431      -0.17479   \n25%             -0.14544     -0.18045     -0.20709     -0.21431      -0.17479   \n50%             -0.14544     -0.18045     -0.20709     -0.21431      -0.17479   \n75%             -0.14544     -0.18045     -0.20709     -0.21431      -0.17479   \nmax              6.87578      5.54163      4.82876      4.66607       5.72131   \n\n      second_TVGames second_Virtual Games  \ncount    62372.00000          62372.00000  \nmean         0.00000              0.00000  \nstd          1.00002              1.00002  \nmin         -0.03352             -0.06215  \n25%         -0.03352             -0.06215  \n50%         -0.03352             -0.06215  \n75%         -0.03352             -0.06215  \nmax         29.83359             16.08998  \n\n[8 rows x 22 columns]",
      "text/html": "<div>\n<style scoped>\n    .dataframe tbody tr th:only-of-type {\n        vertical-align: middle;\n    }\n\n    .dataframe tbody tr th {\n        vertical-align: top;\n    }\n\n    .dataframe thead th {\n        text-align: right;\n    }\n</style>\n<table border=\"1\" class=\"dataframe\">\n  <thead>\n    <tr style=\"text-align: right;\">\n      <th></th>\n      <th>Age</th>\n      <th>DepositCount</th>\n      <th>DepositAmount</th>\n      <th>DepositLag</th>\n      <th>BetsLag</th>\n      <th>One_game</th>\n      <th>main_Betongames</th>\n      <th>main_Live Casino</th>\n      <th>main_Other</th>\n      <th>main_P2P</th>\n      <th>...</th>\n      <th>main_TVGames</th>\n      <th>main_Virtual Games</th>\n      <th>second_Betongames</th>\n      <th>second_Live Casino</th>\n      <th>second_Other</th>\n      <th>second_P2P</th>\n      <th>second_Slots</th>\n      <th>second_Sports</th>\n      <th>second_TVGames</th>\n      <th>second_Virtual Games</th>\n    </tr>\n  </thead>\n  <tbody>\n    <tr>\n      <th>count</th>\n      <td>62372.00000</td>\n      <td>62372.00000</td>\n      <td>62372.00000</td>\n      <td>62372.00000</td>\n      <td>62372.00000</td>\n      <td>62372.00000</td>\n      <td>62372.00000</td>\n      <td>62372.00000</td>\n      <td>62372.00000</td>\n      <td>62372.00000</td>\n      <td>...</td>\n      <td>62372.00000</td>\n      <td>62372.00000</td>\n      <td>62372.00000</td>\n      <td>62372.00000</td>\n      <td>62372.00000</td>\n      <td>62372.00000</td>\n      <td>62372.00000</td>\n      <td>62372.00000</td>\n      <td>62372.00000</td>\n      <td>62372.00000</td>\n    </tr>\n    <tr>\n      <th>mean</th>\n      <td>0.00000</td>\n      <td>0.00001</td>\n      <td>0.00001</td>\n      <td>-0.00005</td>\n      <td>0.00000</td>\n      <td>-0.00000</td>\n      <td>0.00000</td>\n      <td>0.00000</td>\n      <td>0.00000</td>\n      <td>0.00000</td>\n      <td>...</td>\n      <td>0.00000</td>\n      <td>0.00000</td>\n      <td>-0.00001</td>\n      <td>0.00000</td>\n      <td>0.00000</td>\n      <td>0.00000</td>\n      <td>0.00000</td>\n      <td>0.00000</td>\n      <td>0.00000</td>\n      <td>0.00000</td>\n    </tr>\n    <tr>\n      <th>std</th>\n      <td>1.00002</td>\n      <td>1.00001</td>\n      <td>1.00001</td>\n      <td>0.99994</td>\n      <td>1.00002</td>\n      <td>1.00002</td>\n      <td>1.00002</td>\n      <td>1.00002</td>\n      <td>1.00002</td>\n      <td>1.00002</td>\n      <td>...</td>\n      <td>1.00002</td>\n      <td>1.00002</td>\n      <td>1.00001</td>\n      <td>1.00002</td>\n      <td>1.00002</td>\n      <td>1.00002</td>\n      <td>1.00002</td>\n      <td>1.00002</td>\n      <td>1.00002</td>\n      <td>1.00002</td>\n    </tr>\n    <tr>\n      <th>min</th>\n      <td>-1.40640</td>\n      <td>-0.87552</td>\n      <td>-0.84971</td>\n      <td>-0.96102</td>\n      <td>-1.85315</td>\n      <td>-4.08466</td>\n      <td>-0.19752</td>\n      <td>-0.04605</td>\n      <td>-0.01498</td>\n      <td>-0.05936</td>\n      <td>...</td>\n      <td>-0.01651</td>\n      <td>-0.00981</td>\n      <td>-2.10788</td>\n      <td>-0.14544</td>\n      <td>-0.18045</td>\n      <td>-0.20709</td>\n      <td>-0.21431</td>\n      <td>-0.17479</td>\n      <td>-0.03352</td>\n      <td>-0.06215</td>\n    </tr>\n    <tr>\n      <th>25%</th>\n      <td>-0.80732</td>\n      <td>-0.71148</td>\n      <td>-0.73141</td>\n      <td>-0.69952</td>\n      <td>-0.63033</td>\n      <td>0.24482</td>\n      <td>-0.19752</td>\n      <td>-0.04605</td>\n      <td>-0.01498</td>\n      <td>-0.05936</td>\n      <td>...</td>\n      <td>-0.01651</td>\n      <td>-0.00981</td>\n      <td>0.47441</td>\n      <td>-0.14544</td>\n      <td>-0.18045</td>\n      <td>-0.20709</td>\n      <td>-0.21431</td>\n      <td>-0.17479</td>\n      <td>-0.03352</td>\n      <td>-0.06215</td>\n    </tr>\n    <tr>\n      <th>50%</th>\n      <td>-0.20824</td>\n      <td>-0.38341</td>\n      <td>-0.43117</td>\n      <td>-0.41340</td>\n      <td>-0.38296</td>\n      <td>0.24482</td>\n      <td>-0.19752</td>\n      <td>-0.04605</td>\n      <td>-0.01498</td>\n      <td>-0.05936</td>\n      <td>...</td>\n      <td>-0.01651</td>\n      <td>-0.00981</td>\n      <td>0.47441</td>\n      <td>-0.14544</td>\n      <td>-0.18045</td>\n      <td>-0.20709</td>\n      <td>-0.21431</td>\n      <td>-0.17479</td>\n      <td>-0.03352</td>\n      <td>-0.06215</td>\n    </tr>\n    <tr>\n      <th>75%</th>\n      <td>0.56201</td>\n      <td>0.37116</td>\n      <td>0.38870</td>\n      <td>0.34648</td>\n      <td>0.24139</td>\n      <td>0.24482</td>\n      <td>-0.19752</td>\n      <td>-0.04605</td>\n      <td>-0.01498</td>\n      <td>-0.05936</td>\n      <td>...</td>\n      <td>-0.01651</td>\n      <td>-0.00981</td>\n      <td>0.47441</td>\n      <td>-0.14544</td>\n      <td>-0.18045</td>\n      <td>-0.20709</td>\n      <td>-0.21431</td>\n      <td>-0.17479</td>\n      <td>-0.03352</td>\n      <td>-0.06215</td>\n    </tr>\n    <tr>\n      <th>max</th>\n      <td>2.61599</td>\n      <td>4.07838</td>\n      <td>3.39924</td>\n      <td>3.54096</td>\n      <td>3.88837</td>\n      <td>0.24482</td>\n      <td>5.06284</td>\n      <td>21.71457</td>\n      <td>66.73990</td>\n      <td>16.84661</td>\n      <td>...</td>\n      <td>60.56402</td>\n      <td>101.95342</td>\n      <td>0.47441</td>\n      <td>6.87578</td>\n      <td>5.54163</td>\n      <td>4.82876</td>\n      <td>4.66607</td>\n      <td>5.72131</td>\n      <td>29.83359</td>\n      <td>16.08998</td>\n    </tr>\n  </tbody>\n</table>\n<p>8 rows × 22 columns</p>\n</div>"
     },
     "execution_count": 12,
     "metadata": {},
     "output_type": "execute_result"
    }
   ],
   "source": [
    "standard_full = raw_data.copy()\n",
    "scaler = StandardScaler()\n",
    "scaler.fit(standard_full[standard_full.columns])\n",
    "standard_full[standard_full.columns] = scaler.transform(standard_full[standard_full.columns])\n",
    "standard_full.drop_duplicates(keep='first', inplace=True)\n",
    "standard_full.describe().apply(lambda s: s.apply('{0:.5f}'.format))"
   ],
   "metadata": {
    "collapsed": false
   }
  },
  {
   "cell_type": "code",
   "execution_count": 6,
   "outputs": [],
   "source": [
    "eps_values = np.arange(8, 12.75, 0.25)\n",
    "min_samples = np.arange(3, 10)\n",
    "\n",
    "DBSCAN_params = list(product(eps_values, min_samples))"
   ],
   "metadata": {
    "collapsed": false
   }
  },
  {
   "cell_type": "code",
   "execution_count": null,
   "outputs": [
    {
     "name": "stderr",
     "output_type": "stream",
     "text": [
      "Exception ignored in: Exception ignored in: 'sklearn.metrics._pairwise_distances_reduction.FastEuclideanPairwiseDistancesRadiusNeighborhood._compute_and_reduce_distances_on_chunks'\n",
      "Exception ignored in: 'sklearn.metrics._pairwise_distances_reduction.FastEuclideanPairwiseDistancesRadiusNeighborhood._compute_and_reduce_distances_on_chunks'\n",
      "Exception ignored in: 'sklearn.metrics._pairwise_distances_reduction.FastEuclideanPairwiseDistancesRadiusNeighborhood._compute_and_reduce_distances_on_chunks'\n",
      "Exception ignored in: 'sklearn.metrics._pairwise_distances_reduction.FastEuclideanPairwiseDistancesRadiusNeighborhood._compute_and_reduce_distances_on_chunks'\n",
      "Exception ignored in: 'sklearn.metrics._pairwise_distances_reduction.FastEuclideanPairwiseDistancesRadiusNeighborhood._compute_and_reduce_distances_on_chunks'\n",
      "Exception ignored in: 'sklearn.metrics._pairwise_distances_reduction.FastEuclideanPairwiseDistancesRadiusNeighborhood._compute_and_reduce_distances_on_chunks'\n",
      "Exception ignored in: 'sklearn.metrics._pairwise_distances_reduction.FastEuclideanPairwiseDistancesRadiusNeighborhood._compute_and_reduce_distances_on_chunks'\n",
      "Exception ignored in: 'sklearn.metrics._pairwise_distances_reduction.FastEuclideanPairwiseDistancesRadiusNeighborhood._compute_and_reduce_distances_on_chunks'\n",
      "Exception ignored in: 'sklearn.metrics._pairwise_distances_reduction.FastEuclideanPairwiseDistancesRadiusNeighborhood._compute_and_reduce_distances_on_chunks'\n",
      "Exception ignored in: 'sklearn.metrics._pairwise_distances_reduction.FastEuclideanPairwiseDistancesRadiusNeighborhood._compute_and_reduce_distances_on_chunks'\n",
      "Exception ignored in: 'sklearn.metrics._pairwise_distances_reduction.FastEuclideanPairwiseDistancesRadiusNeighborhood._compute_and_reduce_distances_on_chunks'\n",
      "'sklearn.metrics._pairwise_distances_reduction.FastEuclideanPairwiseDistancesRadiusNeighborhood._compute_and_reduce_distances_on_chunks'\n"
     ]
    },
    {
     "ename": "MemoryError",
     "evalue": "bad allocation",
     "output_type": "error",
     "traceback": [
      "\u001B[1;31m---------------------------------------------------------------------------\u001B[0m",
      "\u001B[1;31mMemoryError\u001B[0m                               Traceback (most recent call last)",
      "\u001B[1;31mMemoryError\u001B[0m: bad allocation"
     ]
    },
    {
     "name": "stderr",
     "output_type": "stream",
     "text": [
      "Exception ignored in: 'sklearn.metrics._pairwise_distances_reduction.FastEuclideanPairwiseDistancesRadiusNeighborhood._compute_and_reduce_distances_on_chunks'\n",
      "Traceback (most recent call last):\n",
      "  File \"C:\\Users\\narek.meloyan\\PycharmProjects\\Segmentation_final\\venv\\lib\\site-packages\\sklearn\\neighbors\\_base.py\", line 1097, in radius_neighbors\n",
      "    results = PairwiseDistancesRadiusNeighborhood.compute(\n",
      "MemoryError: bad allocation\n"
     ]
    }
   ],
   "source": [
    "from sklearn.metrics import silhouette_score\n",
    "\n",
    "no_of_clusters = []\n",
    "sil_score = []\n",
    "\n",
    "for p in DBSCAN_params:\n",
    "    DBS_clustering = DBSCAN(eps=p[0], min_samples=p[1]).fit(minmax)\n",
    "    no_of_clusters.append(len(np.unique(DBS_clustering.labels_)))\n",
    "    sil_score.append(silhouette_score(minmax, DBS_clustering.labels_))"
   ],
   "metadata": {
    "collapsed": false,
    "pycharm": {
     "is_executing": true
    }
   }
  },
  {
   "cell_type": "code",
   "execution_count": null,
   "outputs": [],
   "source": [],
   "metadata": {
    "collapsed": false
   }
  }
 ],
 "metadata": {
  "kernelspec": {
   "display_name": "Python 3",
   "language": "python",
   "name": "python3"
  },
  "language_info": {
   "codemirror_mode": {
    "name": "ipython",
    "version": 2
   },
   "file_extension": ".py",
   "mimetype": "text/x-python",
   "name": "python",
   "nbconvert_exporter": "python",
   "pygments_lexer": "ipython2",
   "version": "2.7.6"
  }
 },
 "nbformat": 4,
 "nbformat_minor": 0
}
